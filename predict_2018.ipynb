{
 "cells": [
  {
   "cell_type": "code",
   "execution_count": 1,
   "metadata": {},
   "outputs": [],
   "source": [
    "# coding=utf-8\n",
    "\n",
    "from sklearn.base import BaseEstimator, TransformerMixin, RegressorMixin, clone\n",
    "from sklearn.model_selection import train_test_split\n",
    "from sklearn.metrics import accuracy_score\n",
    "import matplotlib.pyplot as plt\n",
    "import pandas as pd\n",
    "import numpy as np\n",
    "import datetime\n",
    "import pickle\n",
    "import time\n",
    "import os\n",
    "\n",
    "scale_max = np.array([50, 53.55, 135.05, 4000, 6, 366, 31, 12, 50, 50, 50, 50, 50])  # 各要素的最大值\n",
    "scale_min = np.array([-50, 3.86, 73.66, -10, 0, 1, 1, 1, 0, 0, -50, -50, -50])  # 各要素的最小值\n",
    "scale_ = scale_max - scale_min\n",
    "\n",
    "\n",
    "def current_time():\n",
    "    ct = datetime.datetime.now().strftime('%Y:%m:%d:%H:%M:%S')\n",
    "    return ct\n",
    "\n",
    "features = [\n",
    "    # 'PRS_Avg',            # 平均气压\n",
    "    'TEM_Avg',            # 平均气温\n",
    "    # 'WIN_S_2mi_Avg',      # 平均风速\n",
    "    'Lat',                # 纬度\n",
    "    'Lon',                # 经度\n",
    "    'Alti',               # 海拔\n",
    "    'dow',                # 星期\n",
    "    'doy',                # 一年的第几天\n",
    "    'day',                # 一月的第几天\n",
    "    'month',              # 月份\n",
    "    't_w24',              # 昨天的风速\n",
    "    't_w48',              # 前天的风速\n",
    "    # 'tdif2',              # 今天与昨天的风速差\n",
    "    't_t24',              # 昨天的气温\n",
    "    't_t48',              # 前天的气温\n",
    "    'tdif3'               # 今天与昨天的气温差\n",
    "]"
   ]
  },
  {
   "cell_type": "code",
   "execution_count": 2,
   "metadata": {},
   "outputs": [],
   "source": [
    "from xgboost import XGBClassifier\n",
    "from sklearn.linear_model import LogisticRegression\n",
    "from sklearn.ensemble import RandomForestClassifier, AdaBoostClassifier\n",
    "from sklearn.tree import DecisionTreeClassifier\n",
    "from sklearn.naive_bayes import GaussianNB"
   ]
  },
  {
   "cell_type": "code",
   "execution_count": 11,
   "metadata": {},
   "outputs": [],
   "source": [
    "def get_prev_days(x, n_days):\n",
    "    try:\n",
    "        lo = df[df.Data_Time == x - n_days*pday].PRE_Time_2020.values[0]\n",
    "    except:\n",
    "        lo = df[df.Data_Time == x].PRE_Time_2020.values[0]\n",
    "    return lo\n",
    "\n",
    "\n",
    "def get_prev_days_1(x, n_days):\n",
    "    try:\n",
    "        lo = df[df.Data_Time == x - n_days*pday].WIN_S_2mi_Avg.values[0]\n",
    "    except:\n",
    "        lo = df[df.Data_Time == x].WIN_S_2mi_Avg.values[0]\n",
    "    return lo\n",
    "\n",
    "\n",
    "def get_prev_days_2(x, n_days):\n",
    "    try:\n",
    "        lo = df[df.Data_Time == x - n_days*pday].TEM_Avg.values[0]\n",
    "    except:\n",
    "        lo = df[df.Data_Time == x].TEM_Avg.values[0]\n",
    "    return lo"
   ]
  },
  {
   "cell_type": "code",
   "execution_count": 13,
   "metadata": {},
   "outputs": [],
   "source": [
    "def preprocess(df):\n",
    "    df['Data_Time'] = df['Data_Time'].astype(unicode)\n",
    "    df['Data_Time'] = pd.to_datetime(df['Data_Time'])\n",
    "\n",
    "    df['dow'] = df.Data_Time.apply(lambda x: x.dayofweek)     # 周几\n",
    "    df['doy'] = df.Data_Time.apply(lambda x: x.dayofyear)     # 一年的第几天\n",
    "    df['day'] = df.Data_Time.apply(lambda x: x.day)           # 一个月的第几天\n",
    "    df['month'] = df.Data_Time.apply(lambda x: x.month)       # 第几个月\n",
    "\n",
    "    df['t_m24'] = df.Data_Time.apply(get_prev_days, args=(1,))    # 昨天的降雨量\n",
    "    df['t_m48'] = df.Data_Time.apply(get_prev_days, args=(2,))    # 前天的降雨量\n",
    "    df['t_m72'] = df.Data_Time.apply(get_prev_days, args=(3,))    # 大前天的降雨量\n",
    "    # df['tdif'] = df['PRE_Time_2020'] - df['t_m24']\n",
    "\n",
    "    df['t_w24'] = df.Data_Time.apply(get_prev_days_1, args=(1,))    # 昨天的风速\n",
    "    df['t_w48'] = df.Data_Time.apply(get_prev_days_1, args=(2,))    # 前天的风速\n",
    "    df['tdif2'] = df['WIN_S_2mi_Avg'] - df['t_w24']                 # 今天的风速与昨天的风速差\n",
    "\n",
    "    df['t_t24'] = df.Data_Time.apply(get_prev_days, args=(1,))    # 昨天的气温\n",
    "    df['t_t48'] = df.Data_Time.apply(get_prev_days, args=(2,))    # 前天的气温\n",
    "    df['tdif3'] = df['TEM_Avg'] - df['t_t24']                     # 今天的气温与昨天的气温差\n",
    "    df['Lat'] = 23.55\n",
    "    df['Lon'] = 110.38\n",
    "    df['Alti'] = 3\n",
    "    return df"
   ]
  },
  {
   "cell_type": "code",
   "execution_count": 14,
   "metadata": {},
   "outputs": [
    {
     "name": "stdout",
     "output_type": "stream",
     "text": [
      "(184, 13)\n",
      "[ 31.    23.55 110.38   3.     6.   184.    31.     7.     2.     2.\n",
      " 110.   110.    31.  ]\n",
      "[  5.    23.55 110.38   3.     0.     1.     1.     1.     0.     0.\n",
      "   0.     0.   -85.  ]\n"
     ]
    }
   ],
   "source": [
    "df = pd.read_csv(\"/home/sinoeco/hdd/pzw/pingnan/pingnan_59255_20180101.csv\")\n",
    "df = preprocess(df)\n",
    "\n",
    "x_test = df[features].values\n",
    "print x_test.shape\n",
    "print np.max(x_test, axis=0)\n",
    "print np.min(x_test, axis=0)"
   ]
  },
  {
   "cell_type": "code",
   "execution_count": 15,
   "metadata": {},
   "outputs": [
    {
     "data": {
      "text/plain": [
       "array([[ 16.  ,  23.55, 110.38, ...,   0.  ,   0.  ,  16.  ],\n",
       "       [ 17.  ,  23.55, 110.38, ...,   0.  ,   0.  ,  17.  ],\n",
       "       [ 19.  ,  23.55, 110.38, ...,   0.  ,   0.  ,  19.  ],\n",
       "       ...,\n",
       "       [ 30.  ,  23.55, 110.38, ...,  12.  ,  12.  ,  18.  ],\n",
       "       [ 30.  ,  23.55, 110.38, ...,   6.  ,   6.  ,  24.  ],\n",
       "       [ 30.  ,  23.55, 110.38, ...,   7.  ,   7.  ,  23.  ]])"
      ]
     },
     "execution_count": 15,
     "metadata": {},
     "output_type": "execute_result"
    }
   ],
   "source": [
    "x_test"
   ]
  },
  {
   "cell_type": "code",
   "execution_count": 16,
   "metadata": {},
   "outputs": [],
   "source": [
    "x_test = np.array([np.clip(xi, a_min=scale_min, a_max=scale_max) for xi in x_test])  # 异常值处理"
   ]
  },
  {
   "cell_type": "code",
   "execution_count": 19,
   "metadata": {},
   "outputs": [
    {
     "name": "stdout",
     "output_type": "stream",
     "text": [
      "(184, 13)\n"
     ]
    }
   ],
   "source": [
    "print x_test.shape"
   ]
  },
  {
   "cell_type": "code",
   "execution_count": 17,
   "metadata": {},
   "outputs": [],
   "source": [
    "def get_onehot(y):\n",
    "    y_1 = list()\n",
    "    for i in y:\n",
    "        if i < 10.:\n",
    "            y_1.append(0)\n",
    "        elif i < 25.:\n",
    "            y_1.append(1)\n",
    "        elif i < 50.:\n",
    "            y_1.append(2)\n",
    "        else:\n",
    "            y_1.append(3)\n",
    "    return np.array(y_1)"
   ]
  },
  {
   "cell_type": "code",
   "execution_count": 18,
   "metadata": {},
   "outputs": [
    {
     "name": "stdout",
     "output_type": "stream",
     "text": [
      "[ 0  0  0  0  0  6 70 20  9  0]\n",
      "[0 0 0 0 0 0 3 1 0 0]\n"
     ]
    }
   ],
   "source": [
    "y_test = df['PRE_Time_2020'].values\n",
    "print y_test[:10]\n",
    "y_test = get_onehot(y_test)\n",
    "print y_test[:10]"
   ]
  },
  {
   "cell_type": "code",
   "execution_count": 20,
   "metadata": {},
   "outputs": [],
   "source": [
    "with open(\"/home/sinoeco/hdd/pzw/wp_01/model/model01.pickle\", \"rb\") as fr:\n",
    "    model01 = pickle.load(fr)"
   ]
  },
  {
   "cell_type": "code",
   "execution_count": 21,
   "metadata": {},
   "outputs": [
    {
     "data": {
      "text/plain": [
       "array([[0.76971674, 0.15184939, 0.05899313, 0.01944072],\n",
       "       [0.7515814 , 0.16261284, 0.06324088, 0.02256494],\n",
       "       [0.7534943 , 0.14446025, 0.06997598, 0.03206948],\n",
       "       [0.75693434, 0.13811277, 0.06955019, 0.03540273],\n",
       "       [0.7933266 , 0.15372199, 0.04246464, 0.01048676],\n",
       "       [0.3868072 , 0.4696298 , 0.12319139, 0.02037163],\n",
       "       [0.29117745, 0.43309337, 0.19275472, 0.08297451],\n",
       "       [0.3219208 , 0.4873903 , 0.15467617, 0.03601268],\n",
       "       [0.3597149 , 0.4915123 , 0.13123883, 0.01753397],\n",
       "       [0.8002801 , 0.14628519, 0.04283683, 0.01059789]], dtype=float32)"
      ]
     },
     "execution_count": 21,
     "metadata": {},
     "output_type": "execute_result"
    }
   ],
   "source": [
    "y_pred = model01.predict_proba(x_test)\n",
    "y_pred[:10]"
   ]
  },
  {
   "cell_type": "code",
   "execution_count": 22,
   "metadata": {},
   "outputs": [
    {
     "name": "stdout",
     "output_type": "stream",
     "text": [
      "LogisticReg accuracy is 79.35%\n"
     ]
    }
   ],
   "source": [
    "acc = accuracy_score(y_test, np.argmax(y_pred, axis=1))\n",
    "print \"LogisticReg\", \"accuracy is %.2f%%\" % (acc * 100.)"
   ]
  },
  {
   "cell_type": "code",
   "execution_count": 23,
   "metadata": {},
   "outputs": [
    {
     "data": {
      "image/png": "[encoded data removed]",
      "text/plain": [
       "<Figure size 432x288 with 1 Axes>"
      ]
     },
     "metadata": {},
     "output_type": "display_data"
    }
   ],
   "source": [
    "%matplotlib inline \n",
    "\n",
    "plt.hist(y_test)\n",
    "plt.xlabel('rain level')\n",
    "plt.ylabel('rain days')\n",
    "plt.show()"
   ]
  },
  {
   "cell_type": "code",
   "execution_count": 24,
   "metadata": {},
   "outputs": [
    {
     "name": "stdout",
     "output_type": "stream",
     "text": [
      "[0 0 0 0 0 0 0 0 0 0] \n",
      "\n",
      "[[0.8002801  0.14628519 0.04283683 0.01059789]\n",
      " [0.8002801  0.14628519 0.04283683 0.01059789]\n",
      " [0.7974369  0.14582278 0.04521108 0.01152924]\n",
      " [0.79050654 0.14974207 0.04642622 0.01332517]\n",
      " [0.7931963  0.14247334 0.04800623 0.01632408]\n",
      " [0.7616697  0.15137272 0.06408975 0.02286782]\n",
      " [0.75659    0.14543068 0.07026347 0.02771584]\n",
      " [0.7534943  0.14446025 0.06997598 0.03206948]\n",
      " [0.75693434 0.13811277 0.06955019 0.03540273]\n",
      " [0.7534943  0.14446025 0.06997598 0.03206948]]\n"
     ]
    }
   ],
   "source": [
    "print y_test[10:20], '\\n'*2, y_pred[10:20]"
   ]
  },
  {
   "cell_type": "code",
   "execution_count": 25,
   "metadata": {},
   "outputs": [
    {
     "name": "stdout",
     "output_type": "stream",
     "text": [
      "[6, 7, 52, 65, 87, 104, 109, 112, 115, 119, 128, 129, 136, 146, 148, 151, 153, 154, 155, 162, 163, 171, 172, 176, 179, 181]\n"
     ]
    }
   ],
   "source": [
    "rain_ind = [ind for ind, key in enumerate(y_test) if key != 0]\n",
    "print rain_ind"
   ]
  },
  {
   "cell_type": "code",
   "execution_count": 26,
   "metadata": {
    "scrolled": true
   },
   "outputs": [
    {
     "name": "stdout",
     "output_type": "stream",
     "text": [
      "[3 1 1 2 2 1 1 3 1 1 1 1 1 1 1 1 1 1 1 1 1 1 1 1 1 1] \n",
      "\n",
      "[[0.29117745 0.43309337 0.19275472 0.08297451]\n",
      " [0.3219208  0.4873903  0.15467617 0.03601268]\n",
      " [0.27652124 0.5371039  0.16142832 0.02494658]\n",
      " [0.2607794  0.44187638 0.23422147 0.0631227 ]\n",
      " [0.23349977 0.3339068  0.27733237 0.15526104]\n",
      " [0.18631761 0.46380934 0.25079843 0.09907468]\n",
      " [0.200211   0.40994024 0.26120698 0.12864177]\n",
      " [0.18252103 0.36816347 0.25931177 0.19000374]\n",
      " [0.18469688 0.43434772 0.2563728  0.12458257]\n",
      " [0.1957024  0.41446936 0.26409286 0.1257354 ]\n",
      " [0.17156735 0.41065013 0.2697019  0.14808065]\n",
      " [0.16913885 0.40483746 0.2724493  0.15357436]\n",
      " [0.5969181  0.2564405  0.10758143 0.03905995]\n",
      " [0.7549419  0.14148723 0.07160292 0.03196797]\n",
      " [0.3619587  0.40217778 0.18025011 0.05561336]\n",
      " [0.35053533 0.4088683  0.18053076 0.06006557]\n",
      " [0.34457815 0.40707242 0.18648937 0.06186004]\n",
      " [0.7583554  0.14142214 0.06887175 0.0313507 ]\n",
      " [0.17938854 0.46356165 0.25203174 0.10501807]\n",
      " [0.18058825 0.46710345 0.25240594 0.09990241]\n",
      " [0.13926642 0.42685747 0.28034636 0.15352972]\n",
      " [0.5923427  0.26038823 0.10634214 0.04092699]\n",
      " [0.3441636  0.41171736 0.18323714 0.06088186]\n",
      " [0.1653042  0.47213304 0.25489953 0.10766324]\n",
      " [0.7528917  0.14474998 0.07000017 0.0323581 ]\n",
      " [0.7638846  0.13969736 0.06622855 0.03018953]]\n"
     ]
    }
   ],
   "source": [
    "print y_test[rain_ind], '\\n'*2, y_pred[rain_ind]"
   ]
  },
  {
   "cell_type": "code",
   "execution_count": 35,
   "metadata": {},
   "outputs": [
    {
     "name": "stdout",
     "output_type": "stream",
     "text": [
      "2018-01-07 00:00:00\n"
     ]
    }
   ],
   "source": [
    "print df.Data_Time[6]"
   ]
  },
  {
   "cell_type": "code",
   "execution_count": 42,
   "metadata": {},
   "outputs": [
    {
     "name": "stdout",
     "output_type": "stream",
     "text": [
      "广西省平南县 2018-01-07 00:00:00 的全天降雨概率是43.31%\n",
      "广西省平南县 2018-01-08 00:00:00 的全天降雨概率是48.74%\n",
      "广西省平南县 2018-02-22 00:00:00 的全天降雨概率是53.71%\n",
      "广西省平南县 2018-03-07 00:00:00 的全天降雨概率是44.19%\n",
      "广西省平南县 2018-03-29 00:00:00 的全天降雨概率是33.39%\n",
      "广西省平南县 2018-04-15 00:00:00 的全天降雨概率是46.38%\n",
      "广西省平南县 2018-04-20 00:00:00 的全天降雨概率是40.99%\n",
      "广西省平南县 2018-04-23 00:00:00 的全天降雨概率是36.82%\n",
      "广西省平南县 2018-04-26 00:00:00 的全天降雨概率是43.43%\n",
      "广西省平南县 2018-04-30 00:00:00 的全天降雨概率是41.45%\n",
      "广西省平南县 2018-05-09 00:00:00 的全天降雨概率是41.07%\n",
      "广西省平南县 2018-05-10 00:00:00 的全天降雨概率是40.48%\n",
      "广西省平南县 2018-05-17 00:00:00 的全天降雨概率是59.69%\n",
      "广西省平南县 2018-05-27 00:00:00 的全天降雨概率是75.49%\n",
      "广西省平南县 2018-05-29 00:00:00 的全天降雨概率是40.22%\n",
      "广西省平南县 2018-06-01 00:00:00 的全天降雨概率是40.89%\n",
      "广西省平南县 2018-06-03 00:00:00 的全天降雨概率是40.71%\n",
      "广西省平南县 2018-06-04 00:00:00 的全天降雨概率是75.84%\n",
      "广西省平南县 2018-06-05 00:00:00 的全天降雨概率是46.36%\n",
      "广西省平南县 2018-06-12 00:00:00 的全天降雨概率是46.71%\n",
      "广西省平南县 2018-06-13 00:00:00 的全天降雨概率是42.69%\n",
      "广西省平南县 2018-06-21 00:00:00 的全天降雨概率是59.23%\n",
      "广西省平南县 2018-06-22 00:00:00 的全天降雨概率是41.17%\n",
      "广西省平南县 2018-06-26 00:00:00 的全天降雨概率是47.21%\n",
      "广西省平南县 2018-06-29 00:00:00 的全天降雨概率是75.29%\n",
      "广西省平南县 2018-07-01 00:00:00 的全天降雨概率是76.39%\n"
     ]
    }
   ],
   "source": [
    "for rain_i in rain_ind:\n",
    "    max_proba = np.argmax(y_pred[rain_i])\n",
    "    print \"广西省平南县\", df.Data_Time[rain_i], \"的全天降雨概率是%.2f%%\"% (y_pred[rain_i][max_proba]*100)"
   ]
  },
  {
   "cell_type": "code",
   "execution_count": 45,
   "metadata": {},
   "outputs": [],
   "source": [
    "def get_onehot_2(y):\n",
    "    y_1 = list()\n",
    "    for i in y:\n",
    "        if i < 10.:\n",
    "            y_1.append(0)\n",
    "#         elif i < 25.:\n",
    "#             y_1.append(1)\n",
    "#         elif i < 50.:\n",
    "#             y_1.append(2)\n",
    "        else:\n",
    "            y_1.append(1)\n",
    "    return np.array(y_1)"
   ]
  },
  {
   "cell_type": "code",
   "execution_count": 43,
   "metadata": {},
   "outputs": [],
   "source": [
    "with open(\"/home/sinoeco/hdd/pzw/wp_01/model_cl2/model01.pickle\", \"rb\") as fr:\n",
    "    model201 = pickle.load(fr)\n",
    "y_pred2 = model201.predict_proba(x_test)\n"
   ]
  },
  {
   "cell_type": "code",
   "execution_count": 44,
   "metadata": {},
   "outputs": [
    {
     "name": "stdout",
     "output_type": "stream",
     "text": [
      "[3 1 1 2 2 1 1 3 1 1 1 1 1 1 1 1 1 1 1 1 1 1 1 1 1 1] \n",
      "\n",
      "[[0.3452894  0.6547106 ]\n",
      " [0.32934302 0.670657  ]\n",
      " [0.2525012  0.7474988 ]\n",
      " [0.24773985 0.75226015]\n",
      " [0.22053403 0.779466  ]\n",
      " [0.17957872 0.8204213 ]\n",
      " [0.19202697 0.807973  ]\n",
      " [0.20305097 0.796949  ]\n",
      " [0.17991441 0.8200856 ]\n",
      " [0.18281907 0.81718093]\n",
      " [0.15987927 0.84012073]\n",
      " [0.15987927 0.84012073]\n",
      " [0.63920724 0.3607928 ]\n",
      " [0.790758   0.20924197]\n",
      " [0.36346447 0.6365355 ]\n",
      " [0.33907676 0.66092324]\n",
      " [0.32188666 0.67811334]\n",
      " [0.78046834 0.21953164]\n",
      " [0.16950941 0.8304906 ]\n",
      " [0.1718933  0.8281067 ]\n",
      " [0.13659662 0.8634034 ]\n",
      " [0.58111423 0.41888577]\n",
      " [0.3080902  0.6919098 ]\n",
      " [0.14883542 0.8511646 ]\n",
      " [0.7601826  0.2398174 ]\n",
      " [0.7735797  0.22642025]]\n"
     ]
    }
   ],
   "source": [
    "print y_test[rain_ind], '\\n'*2, y_pred2[rain_ind]"
   ]
  },
  {
   "cell_type": "code",
   "execution_count": 48,
   "metadata": {},
   "outputs": [
    {
     "name": "stdout",
     "output_type": "stream",
     "text": [
      "[ 0  0  0  0  0  6 70 20  9  0]\n",
      "[0 0 0 0 0 0 1 1 0 0]\n"
     ]
    }
   ],
   "source": [
    "y_test2 = df['PRE_Time_2020'].values\n",
    "print y_test2[:10]\n",
    "y_test2 = get_onehot_2(y_test2)\n",
    "print y_test2[:10]"
   ]
  },
  {
   "cell_type": "code",
   "execution_count": 49,
   "metadata": {},
   "outputs": [
    {
     "name": "stdout",
     "output_type": "stream",
     "text": [
      "LogisticReg accuracy is 66.85%\n"
     ]
    }
   ],
   "source": [
    "acc = accuracy_score(y_test2, np.argmax(y_pred2, axis=1))\n",
    "print \"LogisticReg\", \"accuracy is %.2f%%\" % (acc * 100.)"
   ]
  }
 ],
 "metadata": {
  "kernelspec": {
   "display_name": "Python 2",
   "language": "python",
   "name": "python2"
  },
  "language_info": {
   "codemirror_mode": {
    "name": "ipython",
    "version": 2
   },
   "file_extension": ".py",
   "mimetype": "text/x-python",
   "name": "python",
   "nbconvert_exporter": "python",
   "pygments_lexer": "ipython2",
   "version": "2.7.12"
  }
 },
 "nbformat": 4,
 "nbformat_minor": 2
}
